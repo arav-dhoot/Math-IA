{
 "cells": [
  {
   "cell_type": "code",
   "execution_count": null,
   "metadata": {},
   "outputs": [],
   "source": [
    "def factor_pairs(n):\n",
    "    pairs = []\n",
    "    for i in range(1, int(n**0.5) + 1):\n",
    "        if n % i == 0:\n",
    "            pairs.append((i, n // i))\n",
    "    return pairs"
   ]
  },
  {
   "cell_type": "code",
   "execution_count": null,
   "metadata": {},
   "outputs": [],
   "source": [
    "def gcd(a, b):\n",
    "    while b != 0:\n",
    "        a, b = b, a % b\n",
    "    return a\n",
    "\n",
    "def phi(n):\n",
    "    result = 1\n",
    "    for i in range(2, n):\n",
    "        if gcd(i, n) == 1:\n",
    "            result += 1\n",
    "    return result\n",
    "\n",
    "def inverse_phi(k):\n",
    "    result = []\n",
    "    for n in range(1, k**2 + k):\n",
    "        if phi(n) == k:\n",
    "            result.append(n)\n",
    "    return result"
   ]
  },
  {
   "cell_type": "code",
   "execution_count": null,
   "metadata": {},
   "outputs": [],
   "source": [
    "def are_coprime(a, b):\n",
    "    return gcd(a, b) == 1\n",
    "\n",
    "def merge_coprime_pairs(list1, list2):\n",
    "    merged_pairs = []\n",
    "    for x in list1:\n",
    "        for y in list2:\n",
    "            if are_coprime(x, y):\n",
    "                merged_pairs.append((x, y))\n",
    "    return merged_pairs\n"
   ]
  },
  {
   "cell_type": "code",
   "execution_count": null,
   "metadata": {},
   "outputs": [],
   "source": [
    "def h_k(n):\n",
    "    pairs = factor_pairs(n)\n",
    "    total = []\n",
    "    for a, b in pairs:\n",
    "        total += merge_coprime_pairs(inverse_phi(a), inverse_phi(b))\n",
    "    print(len(total))\n",
    "    return len(total)\n"
   ]
  },
  {
   "cell_type": "code",
   "execution_count": null,
   "metadata": {},
   "outputs": [],
   "source": [
    "final = [h_k(i) for i in range (1, 101)]"
   ]
  },
  {
   "cell_type": "code",
   "execution_count": null,
   "metadata": {},
   "outputs": [],
   "source": [
    "import matplotlib.pyplot as plt\n",
    "\n",
    "\n",
    "x = [i for i in range(1, 101)]\n",
    "plt.scatter(x, final)\n",
    "\n",
    "for i in range(len(x)):\n",
    "    plt.plot([x[i], x[i]], [final[i], 0], 'b--', linewidth=0.8)\n",
    "\n",
    "# Add labels and title\n",
    "plt.xlabel('Integer')\n",
    "plt.ylabel('hk-value')\n",
    "plt.title('')\n",
    "\n",
    "# Show plot\n",
    "plt.show()\n"
   ]
  }
 ],
 "metadata": {
  "kernelspec": {
   "display_name": "Python 3",
   "language": "python",
   "name": "python3"
  },
  "language_info": {
   "codemirror_mode": {
    "name": "ipython",
    "version": 3
   },
   "file_extension": ".py",
   "mimetype": "text/x-python",
   "name": "python",
   "nbconvert_exporter": "python",
   "pygments_lexer": "ipython3",
   "version": "3.10.13"
  }
 },
 "nbformat": 4,
 "nbformat_minor": 2
}
